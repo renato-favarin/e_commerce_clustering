{
 "cells": [
  {
   "cell_type": "code",
   "execution_count": null,
   "id": "eae2bdab-b4f8-4673-8ff0-14f8261a15b8",
   "metadata": {},
   "outputs": [],
   "source": [
    "# definir o grupo de clientes que vão entrar no grupo \"insiders\""
   ]
  },
  {
   "cell_type": "code",
   "execution_count": null,
   "id": "e63e209a-6cc5-4a09-8a97-03bd79f61127",
   "metadata": {},
   "outputs": [],
   "source": [
    "#21m"
   ]
  }
 ],
 "metadata": {
  "kernelspec": {
   "display_name": "Python 3 (ipykernel)",
   "language": "python",
   "name": "python3"
  },
  "language_info": {
   "codemirror_mode": {
    "name": "ipython",
    "version": 3
   },
   "file_extension": ".py",
   "mimetype": "text/x-python",
   "name": "python",
   "nbconvert_exporter": "python",
   "pygments_lexer": "ipython3",
   "version": "3.9.16"
  }
 },
 "nbformat": 4,
 "nbformat_minor": 5
}
